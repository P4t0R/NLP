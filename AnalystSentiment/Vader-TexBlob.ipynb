{
  "nbformat": 4,
  "nbformat_minor": 0,
  "metadata": {
    "colab": {
      "name": "Untitled2.ipynb",
      "provenance": []
    },
    "kernelspec": {
      "name": "python3",
      "display_name": "Python 3"
    },
    "language_info": {
      "name": "python"
    }
  },
  "cells": [
    {
      "cell_type": "markdown",
      "metadata": {
        "id": "cmEtZtt6gX_I"
      },
      "source": [
        "### **Análisis de sentimientos VADER**\n",
        "\n",
        "VADER ( Valence Aware Dictionary for Sentiment Reasoning) is a model used for text sentiment analysis that is sensitive to both polarity (positive/negative) and intensity (strength) of emotion. It is available in the NLTK package and can be applied directly to unlabeled text data.\n",
        "\n",
        "* [GitHub VADER](https://github.com/cjhutto/vaderSentiment)\n"
      ]
    },
    {
      "cell_type": "markdown",
      "metadata": {
        "id": "zbXcySdRznDI"
      },
      "source": [
        "\n",
        "**Score**\n",
        "\n",
        "1.   **Positive** sentiment: compound score >= 0.05\n",
        "2.   **Neutral** sentiment: (compound score > -0.05) and (compound score < 0.05)\n",
        "3.   **Negative** sentiment: compound score <= -0.05\n",
        "\n",
        "\n",
        "    \n",
        "    \n"
      ]
    },
    {
      "cell_type": "code",
      "metadata": {
        "id": "Rax4-EhagKiX"
      },
      "source": [
        "#Instalación librerías necesarias\n",
        "!pip install vaderSentiment==3.3.2 -q"
      ],
      "execution_count": 72,
      "outputs": []
    },
    {
      "cell_type": "code",
      "metadata": {
        "id": "vZvHCwAWgKfm"
      },
      "source": [
        "#importamos librerías necesarias\n",
        "from vaderSentiment.vaderSentiment import SentimentIntensityAnalyzer\n",
        "analyser = SentimentIntensityAnalyzer()"
      ],
      "execution_count": 73,
      "outputs": []
    },
    {
      "cell_type": "code",
      "metadata": {
        "colab": {
          "base_uri": "https://localhost:8080/"
        },
        "id": "Kx6QxvDqgUjV",
        "outputId": "8cbdefee-d155-498a-a64e-19757ea714a8"
      },
      "source": [
        "#Modelo score  \n",
        "sentence = \"The movie was awesome!\"\n",
        "vs = analyzer.polarity_scores(sentence)\n",
        "print(\"{:} {}\".format(sentence, str(vs)))"
      ],
      "execution_count": 82,
      "outputs": [
        {
          "output_type": "stream",
          "name": "stdout",
          "text": [
            "The movie was awesome! {'neg': 0.0, 'neu': 0.406, 'pos': 0.594, 'compound': 0.6588}\n"
          ]
        }
      ]
    },
    {
      "cell_type": "code",
      "metadata": {
        "colab": {
          "base_uri": "https://localhost:8080/"
        },
        "id": "tTkZVobKgKc6",
        "outputId": "0259a380-8b9b-471d-d877-5c42bd976fc4"
      },
      "source": [
        "#Modelo de uso simple\n",
        "sentence = 'The movie was a real ok '\n",
        "\n",
        "raw_score = analyser.polarity_scores(sentence)\n",
        "if raw_score['compound'] >= 0.05:\n",
        "  print('positive')\n",
        "elif raw_score['compound'] <= -0.05:\n",
        "  print('negative')\n",
        "else:\n",
        "  print('neutral')"
      ],
      "execution_count": 79,
      "outputs": [
        {
          "output_type": "stream",
          "name": "stdout",
          "text": [
            "positive\n"
          ]
        }
      ]
    },
    {
      "cell_type": "code",
      "metadata": {
        "colab": {
          "base_uri": "https://localhost:8080/"
        },
        "id": "fk0113HuEht_",
        "outputId": "863bde01-a565-4b64-98a1-09f196d8cd5b"
      },
      "source": [
        "#Modelo Score simple\n",
        "print(analyser.polarity_scores('this is a good car'))"
      ],
      "execution_count": 83,
      "outputs": [
        {
          "output_type": "stream",
          "name": "stdout",
          "text": [
            "{'neg': 0.0, 'neu': 0.58, 'pos': 0.42, 'compound': 0.4404}\n"
          ]
        }
      ]
    },
    {
      "cell_type": "code",
      "metadata": {
        "colab": {
          "base_uri": "https://localhost:8080/"
        },
        "id": "0bq8t8FGzf5k",
        "outputId": "abe56be6-54dc-4c96-f39b-da2c739bb88d"
      },
      "source": [
        "from vaderSentiment.vaderSentiment import SentimentIntensityAnalyzer\n",
        "    #note: depending on how you installed (e.g., using source code download versus pip install), you may need to import like this:\n",
        "    #from vaderSentiment import SentimentIntensityAnalyzer\n",
        "\n",
        "# --- examples -------\n",
        "sentences = [\"VADER is smart, handsome, and funny.\",  # positive sentence example\n",
        "             \"VADER is smart, handsome, and funny!\",  # punctuation emphasis handled correctly (sentiment intensity adjusted)\n",
        "             \"VADER is very smart, handsome, and funny.\", # booster words handled correctly (sentiment intensity adjusted)\n",
        "             \"VADER is VERY SMART, handsome, and FUNNY.\",  # emphasis for ALLCAPS handled\n",
        "             \"VADER is VERY SMART, handsome, and FUNNY!!!\", # combination of signals - VADER appropriately adjusts intensity\n",
        "             \"VADER is VERY SMART, uber handsome, and FRIGGIN FUNNY!!!\", # booster words & punctuation make this close to ceiling for score\n",
        "             \"VADER is not smart, handsome, nor funny.\",  # negation sentence example\n",
        "             \"The book was good.\",  # positive sentence\n",
        "             \"At least it isn't a horrible book.\",  # negated negative sentence with contraction\n",
        "             \"The book was only kind of good.\", # qualified positive sentence is handled correctly (intensity adjusted)\n",
        "             \"The plot was good, but the characters are uncompelling and the dialog is not great.\", # mixed negation sentence\n",
        "             \"Today SUX!\",  # negative slang with capitalization emphasis\n",
        "             \"Today only kinda sux! But I'll get by, lol\", # mixed sentiment example with slang and constrastive conjunction \"but\"\n",
        "             \"Make sure you :) or :D today!\",  # emoticons handled\n",
        "             \"Catch utf-8 emoji such as such as 💘 and 💋 and 😁\",  # emojis handled\n",
        "             \"Not bad at all\"  # Capitalized negation\n",
        "             ]\n",
        "\n",
        "analyzer = SentimentIntensityAnalyzer()\n",
        "for sentence in sentences:\n",
        "    vs = analyzer.polarity_scores(sentence)\n",
        "    print(\"{:-<65} {}\".format(sentence, str(vs)))"
      ],
      "execution_count": 68,
      "outputs": [
        {
          "output_type": "stream",
          "name": "stdout",
          "text": [
            "VADER is smart, handsome, and funny.----------------------------- {'neg': 0.0, 'neu': 0.254, 'pos': 0.746, 'compound': 0.8316}\n",
            "VADER is smart, handsome, and funny!----------------------------- {'neg': 0.0, 'neu': 0.248, 'pos': 0.752, 'compound': 0.8439}\n",
            "VADER is very smart, handsome, and funny.------------------------ {'neg': 0.0, 'neu': 0.299, 'pos': 0.701, 'compound': 0.8545}\n",
            "VADER is VERY SMART, handsome, and FUNNY.------------------------ {'neg': 0.0, 'neu': 0.246, 'pos': 0.754, 'compound': 0.9227}\n",
            "VADER is VERY SMART, handsome, and FUNNY!!!---------------------- {'neg': 0.0, 'neu': 0.233, 'pos': 0.767, 'compound': 0.9342}\n",
            "VADER is VERY SMART, uber handsome, and FRIGGIN FUNNY!!!--------- {'neg': 0.0, 'neu': 0.294, 'pos': 0.706, 'compound': 0.9469}\n",
            "VADER is not smart, handsome, nor funny.------------------------- {'neg': 0.646, 'neu': 0.354, 'pos': 0.0, 'compound': -0.7424}\n",
            "The book was good.----------------------------------------------- {'neg': 0.0, 'neu': 0.508, 'pos': 0.492, 'compound': 0.4404}\n",
            "At least it isn't a horrible book.------------------------------- {'neg': 0.0, 'neu': 0.678, 'pos': 0.322, 'compound': 0.431}\n",
            "The book was only kind of good.---------------------------------- {'neg': 0.0, 'neu': 0.697, 'pos': 0.303, 'compound': 0.3832}\n",
            "The plot was good, but the characters are uncompelling and the dialog is not great. {'neg': 0.327, 'neu': 0.579, 'pos': 0.094, 'compound': -0.7042}\n",
            "Today SUX!------------------------------------------------------- {'neg': 0.779, 'neu': 0.221, 'pos': 0.0, 'compound': -0.5461}\n",
            "Today only kinda sux! But I'll get by, lol----------------------- {'neg': 0.127, 'neu': 0.556, 'pos': 0.317, 'compound': 0.5249}\n",
            "Make sure you :) or :D today!------------------------------------ {'neg': 0.0, 'neu': 0.294, 'pos': 0.706, 'compound': 0.8633}\n",
            "Catch utf-8 emoji such as such as 💘 and 💋 and 😁------------------ {'neg': 0.0, 'neu': 0.615, 'pos': 0.385, 'compound': 0.875}\n",
            "Not bad at all--------------------------------------------------- {'neg': 0.0, 'neu': 0.513, 'pos': 0.487, 'compound': 0.431}\n"
          ]
        }
      ]
    },
    {
      "cell_type": "code",
      "metadata": {
        "colab": {
          "base_uri": "https://localhost:8080/"
        },
        "id": "lUVMVfnizf77",
        "outputId": "3aff9651-11a4-46d3-c814-0759f23a558f"
      },
      "source": [
        "#import SentimentIntensityAnalyzer class\n",
        "#from vaderSentiment.vaderSentiment module.\n",
        "from vaderSentiment.vaderSentiment import SentimentIntensityAnalyzer\n",
        " \n",
        "#function to print sentiments\n",
        "#of the sentence.\n",
        "def sentiment_scores(sentence):\n",
        " \n",
        "    #Create a SentimentIntensityAnalyzer object.\n",
        "    sid_obj = SentimentIntensityAnalyzer()\n",
        " \n",
        "    #polarity_scores method of SentimentIntensityAnalyzer\n",
        "    #object gives a sentiment dictionary.\n",
        "    #which contains pos, neg, neu, and compound scores.\n",
        "    sentiment_dict = sid_obj.polarity_scores(sentence)\n",
        "     \n",
        "    print(\"Overall sentiment dictionary is : \", sentiment_dict)\n",
        "    print(\"sentence was rated as \", sentiment_dict['neg']*100, \"% Negative\")\n",
        "    print(\"sentence was rated as \", sentiment_dict['neu']*100, \"% Neutral\")\n",
        "    print(\"sentence was rated as \", sentiment_dict['pos']*100, \"% Positive\")\n",
        " \n",
        "    print(\"Sentence Overall Rated As\", end = \" \")\n",
        " \n",
        "    # decide sentiment as positive, negative and neutral\n",
        "    if sentiment_dict['compound'] >= 0.05 :\n",
        "        print(\"Positive\")\n",
        "    elif sentiment_dict['compound'] <= - 0.05 :\n",
        "        print(\"Negative\")\n",
        "    else :\n",
        "        print(\"Neutral\")\n",
        " \n",
        " \n",
        "   \n",
        "#Driver code\n",
        "if __name__ == \"__main__\" :\n",
        " \n",
        "    print(\"\\n1st statement :\")\n",
        "    sentence = \"Geeks For Geeks is the best portal for \\\n",
        "                the computer science engineering students.\"\n",
        " \n",
        "    #function calling\n",
        "    sentiment_scores(sentence)\n",
        " \n",
        "    print(\"\\n2nd Statement :\")\n",
        "    sentence = \"study is going on as usual\"\n",
        "    sentiment_scores(sentence)\n",
        " \n",
        "    print(\"\\n3rd Statement :\")\n",
        "    sentence = \"I am very sad today.\"\n",
        "    sentiment_scores(sentence)"
      ],
      "execution_count": 69,
      "outputs": [
        {
          "output_type": "stream",
          "name": "stdout",
          "text": [
            "\n",
            "1st statement :\n",
            "Overall sentiment dictionary is :  {'neg': 0.165, 'neu': 0.588, 'pos': 0.247, 'compound': 0.5267}\n",
            "sentence was rated as  16.5 % Negative\n",
            "sentence was rated as  58.8 % Neutral\n",
            "sentence was rated as  24.7 % Positive\n",
            "Sentence Overall Rated As Positive\n",
            "\n",
            "2nd Statement :\n",
            "Overall sentiment dictionary is :  {'neg': 0.0, 'neu': 1.0, 'pos': 0.0, 'compound': 0.0}\n",
            "sentence was rated as  0.0 % Negative\n",
            "sentence was rated as  100.0 % Neutral\n",
            "sentence was rated as  0.0 % Positive\n",
            "Sentence Overall Rated As Neutral\n",
            "\n",
            "3rd Statement :\n",
            "Overall sentiment dictionary is :  {'neg': 0.459, 'neu': 0.541, 'pos': 0.0, 'compound': -0.5256}\n",
            "sentence was rated as  45.9 % Negative\n",
            "sentence was rated as  54.1 % Neutral\n",
            "sentence was rated as  0.0 % Positive\n",
            "Sentence Overall Rated As Negative\n"
          ]
        }
      ]
    },
    {
      "cell_type": "markdown",
      "metadata": {
        "id": "JX4BsvkbExV1"
      },
      "source": [
        "<br>\n",
        "<br>"
      ]
    },
    {
      "cell_type": "markdown",
      "metadata": {
        "id": "2-292JV7hFwd"
      },
      "source": [
        "### **Análisis de sentimientos TextBlob**\n",
        "\n",
        "TextBlob is a Python library for processing textual data. It provides a simple API for diving into common natural language processing (NLP) tasks such as part-of-speech tagging, noun phrase extraction, sentiment analysis, classification, translation, and more.\n",
        "\n",
        "\n",
        "**Features:**\n",
        "\n",
        "*    Noun phrase extraction\n",
        "*    Part-of-speech tagging\n",
        "*    Sentiment analysis\n",
        "*    Classification (Naive Bayes, Decision Tree)\n",
        "*    Tokenization (splitting text into words and sentences)\n",
        "*    Word and phrase frequencies\n",
        "*    Parsing\n",
        "*    n-grams\n",
        "*    Word inflection (pluralization and singularization) and lemmatization\n",
        "*    Spelling correction\n",
        "*    Add new models or languages through extensions\n",
        "*    WordNet integration\n",
        "\n",
        "\n",
        "**Links de interes:**\n",
        "\n",
        "* [Documentación TextBlob](https://textblob.readthedocs.io/en/dev/)\n",
        "* [Guía Rápida](https://textblob.readthedocs.io/en/dev/quickstart.html#part-of-speech-tagging)"
      ]
    },
    {
      "cell_type": "code",
      "metadata": {
        "id": "YEm84dhcgUbK"
      },
      "source": [
        "#Instalación librerías necesarias\n",
        "!pip install nltk==3.2.5 -q\n"
      ],
      "execution_count": 11,
      "outputs": []
    },
    {
      "cell_type": "code",
      "metadata": {
        "colab": {
          "base_uri": "https://localhost:8080/"
        },
        "id": "pTzIli0GhT3O",
        "outputId": "80c271e0-9e80-429e-fad6-eeaabe8f43f0"
      },
      "source": [
        "#importamos librerías necesarias\n",
        "import nltk\n",
        "nltk.download('punkt')\n",
        "nltk.download('brown')\n",
        "nltk.download('averaged_perceptron_tagger')"
      ],
      "execution_count": 19,
      "outputs": [
        {
          "output_type": "stream",
          "name": "stdout",
          "text": [
            "[nltk_data] Downloading package punkt to /root/nltk_data...\n",
            "[nltk_data]   Package punkt is already up-to-date!\n",
            "[nltk_data] Downloading package brown to /root/nltk_data...\n",
            "[nltk_data]   Unzipping corpora/brown.zip.\n",
            "[nltk_data] Downloading package averaged_perceptron_tagger to\n",
            "[nltk_data]     /root/nltk_data...\n",
            "[nltk_data]   Package averaged_perceptron_tagger is already up-to-\n",
            "[nltk_data]       date!\n"
          ]
        },
        {
          "output_type": "execute_result",
          "data": {
            "text/plain": [
              "True"
            ]
          },
          "metadata": {},
          "execution_count": 19
        }
      ]
    },
    {
      "cell_type": "code",
      "metadata": {
        "colab": {
          "base_uri": "https://localhost:8080/"
        },
        "id": "eLRCzkrvgUYg",
        "outputId": "f773bd41-6fc9-41f9-f685-0045512923c2"
      },
      "source": [
        "from textblob import TextBlob\n",
        "\n",
        "text = '''\n",
        "The titular threat of The Blob has always struck me as the ultimate movie\n",
        "monster: an insatiably hungry, amoeba-like mass able to penetrate\n",
        "virtually any safeguard, capable of--as a doomed doctor chillingly\n",
        "describes it--\"assimilating flesh on contact.\n",
        "Snide comparisons to gelatin be damned, it's a concept with the most\n",
        "devastating of potential consequences, not unlike the grey goo scenario\n",
        "proposed by technological theorists fearful of\n",
        "artificial intelligence run rampant.\n",
        "'''\n",
        "\n",
        "blob = TextBlob(text)\n",
        "blob.tags           # [('The', 'DT'), ('titular', 'JJ'),\n",
        "                    #  ('threat', 'NN'), ('of', 'IN'), ...]\n",
        "\n",
        "blob.noun_phrases   # WordList(['titular threat', 'blob',\n",
        "                    #            'ultimate movie monster',\n",
        "                    #            'amoeba-like mass', ...])\n",
        "\n",
        "for sentence in blob.sentences:\n",
        "    print(sentence.sentiment.polarity)\n",
        "# 0.060\n",
        "# -0.341"
      ],
      "execution_count": 20,
      "outputs": [
        {
          "output_type": "stream",
          "name": "stdout",
          "text": [
            "0.06000000000000001\n",
            "-0.34166666666666673\n"
          ]
        }
      ]
    },
    {
      "cell_type": "code",
      "metadata": {
        "id": "56D75UDnpBty"
      },
      "source": [
        "#Declaramos texto\n",
        "wiki = TextBlob(\"Python is a high-level, general-purpose programming language.\")"
      ],
      "execution_count": 24,
      "outputs": []
    },
    {
      "cell_type": "markdown",
      "metadata": {
        "id": "8Vgsd29RpB2C"
      },
      "source": [
        "**Part-of-speech Tagging**"
      ]
    },
    {
      "cell_type": "code",
      "metadata": {
        "colab": {
          "base_uri": "https://localhost:8080/"
        },
        "id": "XIsrKfq8pBrj",
        "outputId": "f22570e0-64e7-45df-b9fb-66606dc591b9"
      },
      "source": [
        "wiki.tags"
      ],
      "execution_count": 25,
      "outputs": [
        {
          "output_type": "execute_result",
          "data": {
            "text/plain": [
              "[('Python', 'NNP'),\n",
              " ('is', 'VBZ'),\n",
              " ('a', 'DT'),\n",
              " ('high-level', 'JJ'),\n",
              " ('general-purpose', 'JJ'),\n",
              " ('programming', 'NN'),\n",
              " ('language', 'NN')]"
            ]
          },
          "metadata": {},
          "execution_count": 25
        }
      ]
    },
    {
      "cell_type": "markdown",
      "metadata": {
        "id": "NklBBgBLpbog"
      },
      "source": [
        "**Noun Phrase Extraction**"
      ]
    },
    {
      "cell_type": "code",
      "metadata": {
        "colab": {
          "base_uri": "https://localhost:8080/"
        },
        "id": "ufB1o8g9pBoz",
        "outputId": "ace21c1c-21ed-4e6a-9e36-04bd26e119e6"
      },
      "source": [
        "wiki.noun_phrases"
      ],
      "execution_count": 26,
      "outputs": [
        {
          "output_type": "execute_result",
          "data": {
            "text/plain": [
              "WordList(['python'])"
            ]
          },
          "metadata": {},
          "execution_count": 26
        }
      ]
    },
    {
      "cell_type": "markdown",
      "metadata": {
        "id": "w4Akmqa5pifG"
      },
      "source": [
        "**Sentiment Analysis**\n",
        "\n",
        "The sentiment property returns a namedtuple of the form Sentiment(polarity, subjectivity). \n",
        "\n",
        "The polarity score is a float within the range [-1.0, 1.0]. The subjectivity is a float within the range [0.0, 1.0] where 0.0 is very objective and 1.0 is very subjective."
      ]
    },
    {
      "cell_type": "code",
      "metadata": {
        "colab": {
          "base_uri": "https://localhost:8080/"
        },
        "id": "KgjPRvsRpBmI",
        "outputId": "f86429a7-b0cc-4edc-c69a-1acab29f336f"
      },
      "source": [
        "testimonial = TextBlob(\"Textblob is amazingly simple to use. What great fun!\")\n",
        "testimonial.sentiment"
      ],
      "execution_count": 27,
      "outputs": [
        {
          "output_type": "execute_result",
          "data": {
            "text/plain": [
              "Sentiment(polarity=0.39166666666666666, subjectivity=0.4357142857142857)"
            ]
          },
          "metadata": {},
          "execution_count": 27
        }
      ]
    },
    {
      "cell_type": "code",
      "metadata": {
        "colab": {
          "base_uri": "https://localhost:8080/"
        },
        "id": "o2dYK2KwpBja",
        "outputId": "e4879683-6c6d-493f-a72c-8e2862ff8841"
      },
      "source": [
        "testimonial.sentiment.polarity"
      ],
      "execution_count": 28,
      "outputs": [
        {
          "output_type": "execute_result",
          "data": {
            "text/plain": [
              "0.39166666666666666"
            ]
          },
          "metadata": {},
          "execution_count": 28
        }
      ]
    },
    {
      "cell_type": "code",
      "metadata": {
        "colab": {
          "base_uri": "https://localhost:8080/"
        },
        "id": "mE-9FpmKpBgt",
        "outputId": "7362bb56-b823-4d0a-e651-5845c16f5562"
      },
      "source": [
        "testimonial.sentiment.subjectivity"
      ],
      "execution_count": 29,
      "outputs": [
        {
          "output_type": "execute_result",
          "data": {
            "text/plain": [
              "0.4357142857142857"
            ]
          },
          "metadata": {},
          "execution_count": 29
        }
      ]
    },
    {
      "cell_type": "markdown",
      "metadata": {
        "id": "DZdyJXnjqKsh"
      },
      "source": [
        "**Tokenization**\n",
        "\n",
        "You can break TextBlobs into words or sentences."
      ]
    },
    {
      "cell_type": "code",
      "metadata": {
        "id": "yE8VVqirgUQq"
      },
      "source": [
        "zen = TextBlob(\"Beautiful is better than ugly. \"\n",
        "\"Explicit is better than implicit. \"\n",
        "\"Simple is better than complex.\")"
      ],
      "execution_count": 57,
      "outputs": []
    },
    {
      "cell_type": "code",
      "metadata": {
        "colab": {
          "base_uri": "https://localhost:8080/"
        },
        "id": "Ca8SNWIxgUJn",
        "outputId": "117a9371-173a-4f36-9088-36b1d2989d2e"
      },
      "source": [
        "zen.words"
      ],
      "execution_count": 58,
      "outputs": [
        {
          "output_type": "execute_result",
          "data": {
            "text/plain": [
              "WordList(['Beautiful', 'is', 'better', 'than', 'ugly', 'Explicit', 'is', 'better', 'than', 'implicit', 'Simple', 'is', 'better', 'than', 'complex'])"
            ]
          },
          "metadata": {},
          "execution_count": 58
        }
      ]
    },
    {
      "cell_type": "code",
      "metadata": {
        "colab": {
          "base_uri": "https://localhost:8080/"
        },
        "id": "eejpUhRpqiMT",
        "outputId": "ea54f263-d544-49c1-b986-7ade13473005"
      },
      "source": [
        "zen.sentences"
      ],
      "execution_count": 59,
      "outputs": [
        {
          "output_type": "execute_result",
          "data": {
            "text/plain": [
              "[Sentence(\"Beautiful is better than ugly.\"),\n",
              " Sentence(\"Explicit is better than implicit.\"),\n",
              " Sentence(\"Simple is better than complex.\")]"
            ]
          },
          "metadata": {},
          "execution_count": 59
        }
      ]
    },
    {
      "cell_type": "code",
      "metadata": {
        "colab": {
          "base_uri": "https://localhost:8080/"
        },
        "id": "d68wGID-qiO8",
        "outputId": "60b5f39d-a975-4ba2-908a-e6fe92c9d1c0"
      },
      "source": [
        "for sentence in zen.sentences:\n",
        "  print(sentence.sentiment)"
      ],
      "execution_count": 61,
      "outputs": [
        {
          "output_type": "stream",
          "name": "stdout",
          "text": [
            "Sentiment(polarity=0.2166666666666667, subjectivity=0.8333333333333334)\n",
            "Sentiment(polarity=0.5, subjectivity=0.5)\n",
            "Sentiment(polarity=0.06666666666666667, subjectivity=0.41904761904761906)\n"
          ]
        }
      ]
    },
    {
      "cell_type": "markdown",
      "metadata": {
        "id": "lJvnMx8hrQam"
      },
      "source": [
        "**Spelling Correction**\n",
        "\n",
        "Use the correct() method to attempt spelling correction"
      ]
    },
    {
      "cell_type": "code",
      "metadata": {
        "colab": {
          "base_uri": "https://localhost:8080/"
        },
        "id": "w0DVh7s8qiR3",
        "outputId": "2e8d3ea4-c446-4ee6-bff8-0867bfd3aebb"
      },
      "source": [
        "b = TextBlob(\"I havv goood speling!\")\n",
        "print(b.correct())"
      ],
      "execution_count": 48,
      "outputs": [
        {
          "output_type": "stream",
          "name": "stdout",
          "text": [
            "I have good spelling!\n"
          ]
        }
      ]
    },
    {
      "cell_type": "markdown",
      "metadata": {
        "id": "aAc28eYHrllA"
      },
      "source": [
        "**Get Word and Noun Phrase Frequencies**\n",
        "\n",
        "There are two ways to get the frequency of a word or noun phrase in a TextBlob.\n",
        "\n",
        "The first is through the word_counts dictionary."
      ]
    },
    {
      "cell_type": "code",
      "metadata": {
        "id": "tm16jZmlqiUi"
      },
      "source": [
        "monty = TextBlob(\"We are no longer the Knights who say Ni. \"\n",
        "\"We are now the Knights who say Ekki ekki ekki PTANG.\")"
      ],
      "execution_count": 50,
      "outputs": []
    },
    {
      "cell_type": "code",
      "metadata": {
        "colab": {
          "base_uri": "https://localhost:8080/"
        },
        "id": "Cv8dfg40r4k2",
        "outputId": "bec96916-6d8b-4aec-a916-959392f5e852"
      },
      "source": [
        "monty.word_counts['ekki']"
      ],
      "execution_count": 51,
      "outputs": [
        {
          "output_type": "execute_result",
          "data": {
            "text/plain": [
              "3"
            ]
          },
          "metadata": {},
          "execution_count": 51
        }
      ]
    },
    {
      "cell_type": "code",
      "metadata": {
        "colab": {
          "base_uri": "https://localhost:8080/"
        },
        "id": "GAUrE7QZqiXH",
        "outputId": "8ad06cfa-0f40-4cbf-8b66-e0e04441a925"
      },
      "source": [
        "#The second way is to use the count() method.\n",
        "monty.words.count('ekki')"
      ],
      "execution_count": 52,
      "outputs": [
        {
          "output_type": "execute_result",
          "data": {
            "text/plain": [
              "3"
            ]
          },
          "metadata": {},
          "execution_count": 52
        }
      ]
    },
    {
      "cell_type": "code",
      "metadata": {
        "colab": {
          "base_uri": "https://localhost:8080/"
        },
        "id": "VwXIgY51qiZi",
        "outputId": "f4579fdc-395b-4c94-b574-96cb1aa2314b"
      },
      "source": [
        "#You can specify whether or not the search should be case-sensitive (default is False).\n",
        "monty.words.count('ekki', case_sensitive=True)"
      ],
      "execution_count": 53,
      "outputs": [
        {
          "output_type": "execute_result",
          "data": {
            "text/plain": [
              "2"
            ]
          },
          "metadata": {},
          "execution_count": 53
        }
      ]
    },
    {
      "cell_type": "code",
      "metadata": {
        "colab": {
          "base_uri": "https://localhost:8080/"
        },
        "id": "NSOH5XKkqib1",
        "outputId": "85ee88fb-19a9-404d-bf69-0a63fece4dd1"
      },
      "source": [
        "#Each of these methods can also be used with noun phrases.\n",
        "wiki.noun_phrases.count('python')"
      ],
      "execution_count": 56,
      "outputs": [
        {
          "output_type": "execute_result",
          "data": {
            "text/plain": [
              "1"
            ]
          },
          "metadata": {},
          "execution_count": 56
        }
      ]
    },
    {
      "cell_type": "markdown",
      "metadata": {
        "id": "47M-BLOdsj1X"
      },
      "source": [
        "**Parsing**\n",
        "\n",
        "Use the parse() method to parse the text."
      ]
    },
    {
      "cell_type": "code",
      "metadata": {
        "colab": {
          "base_uri": "https://localhost:8080/"
        },
        "id": "LrxSYSAYsfzY",
        "outputId": "2e0e84db-5bd8-48bf-faa1-0ef6ae5b44b7"
      },
      "source": [
        "b = TextBlob(\"And now for something completely different.\")\n",
        "print(b.parse())"
      ],
      "execution_count": 62,
      "outputs": [
        {
          "output_type": "stream",
          "name": "stdout",
          "text": [
            "And/CC/O/O now/RB/B-ADVP/O for/IN/B-PP/B-PNP something/NN/B-NP/I-PNP completely/RB/B-ADJP/O different/JJ/I-ADJP/O ././O/O\n"
          ]
        }
      ]
    },
    {
      "cell_type": "markdown",
      "metadata": {
        "id": "gt-e6PNRszdI"
      },
      "source": [
        "**n-grams**\n",
        "\n",
        "The TextBlob.ngrams() method returns a list of tuples of n successive words."
      ]
    },
    {
      "cell_type": "code",
      "metadata": {
        "colab": {
          "base_uri": "https://localhost:8080/"
        },
        "id": "YadjnnKxsf19",
        "outputId": "c1685b6b-2487-4162-c730-04c4a7168678"
      },
      "source": [
        "blob = TextBlob(\"Now is better than never.\")\n",
        "blob.ngrams(n=3)"
      ],
      "execution_count": 63,
      "outputs": [
        {
          "output_type": "execute_result",
          "data": {
            "text/plain": [
              "[WordList(['Now', 'is', 'better']),\n",
              " WordList(['is', 'better', 'than']),\n",
              " WordList(['better', 'than', 'never'])]"
            ]
          },
          "metadata": {},
          "execution_count": 63
        }
      ]
    }
  ]
}